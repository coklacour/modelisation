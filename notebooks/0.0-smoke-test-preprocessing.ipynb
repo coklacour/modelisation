{
 "cells": [
  {
   "cell_type": "markdown",
   "metadata": {},
   "source": [
    "## Imports"
   ]
  },
  {
   "cell_type": "code",
   "execution_count": null,
   "metadata": {},
   "outputs": [],
   "source": [
    "import sys\n",
    "import pandas as pd\n",
    "import numpy as np\n",
    "import pickle\n",
    "\n",
    "# Import my libs\n",
    "sys.path.append('../')\n",
    "\n",
    "from utils.logger import get_logger\n",
    "from src.features.balance import BalanceMixin\n",
    "from src.features.correlation import HighCorrelation_filter\n",
    "from src.features.variance import NearZeroVar_filter, LowVar_Filter"
   ]
  },
  {
   "cell_type": "markdown",
   "metadata": {},
   "source": [
    "modelisationTuple"
   ]
  },
  {
   "cell_type": "code",
   "execution_count": null,
   "metadata": {},
   "outputs": [],
   "source": [
    "with open('../data/processed/modelling_tuple', 'rb') as f:\n",
    "    M = pickle.load(f)"
   ]
  },
  {
   "cell_type": "markdown",
   "metadata": {},
   "source": [
    "## SmokeTest"
   ]
  },
  {
   "cell_type": "markdown",
   "metadata": {},
   "source": [
    "#### Logger"
   ]
  },
  {
   "cell_type": "code",
   "execution_count": null,
   "metadata": {},
   "outputs": [],
   "source": [
    "logger = get_logger(\"test\")"
   ]
  },
  {
   "cell_type": "code",
   "execution_count": null,
   "metadata": {},
   "outputs": [],
   "source": [
    "logger.debug(\"Ceci est un message de débogage.\")\n",
    "logger.info(\"Ceci est un message d'information.\")\n",
    "logger.warning(\"Ceci est un message d'avertissement.\")\n",
    "logger.error(\"Ceci est un message d'erreur.\")\n",
    "logger.critical(\"Ceci est un message critique.\")"
   ]
  },
  {
   "cell_type": "markdown",
   "metadata": {},
   "source": [
    "#### BalanceMixin"
   ]
  },
  {
   "cell_type": "code",
   "execution_count": null,
   "metadata": {},
   "outputs": [],
   "source": [
    "print(\"Taille du jeu de données d'entrainement : \", M.train_X.shape[0])"
   ]
  },
  {
   "cell_type": "code",
   "execution_count": null,
   "metadata": {},
   "outputs": [],
   "source": [
    "# prevalence\n",
    "y = M.train_y\n",
    "out = pd.concat([\n",
    "    np.round(y.value_counts(normalize=True, ascending=False).rename('normalized'), 4) * 100,\n",
    "    y.value_counts(normalize=False, ascending=False).rename('number'),\n",
    "], axis=1)\n",
    "out"
   ]
  },
  {
   "cell_type": "code",
   "execution_count": null,
   "metadata": {},
   "outputs": [],
   "source": [
    "balance = BalanceMixin()"
   ]
  },
  {
   "cell_type": "code",
   "execution_count": null,
   "metadata": {},
   "outputs": [],
   "source": [
    "dir(balance)"
   ]
  },
  {
   "cell_type": "code",
   "execution_count": null,
   "metadata": {},
   "outputs": [],
   "source": [
    "help(balance._balance)"
   ]
  },
  {
   "cell_type": "code",
   "execution_count": null,
   "metadata": {},
   "outputs": [],
   "source": [
    "x, y = balance._balance(M.train_X, M.train_y)\n",
    "\n",
    "y = pd.Series(y)\n",
    "# new prevalence\n",
    "out = pd.concat([\n",
    "    np.round(y.value_counts(normalize=True, ascending=False).rename('normalized'), 4) * 100,\n",
    "    y.value_counts(normalize=False, ascending=False).rename('number'),\n",
    "], axis=1)\n",
    "out"
   ]
  },
  {
   "cell_type": "markdown",
   "metadata": {},
   "source": [
    "#### Corrélation"
   ]
  },
  {
   "cell_type": "code",
   "execution_count": null,
   "metadata": {},
   "outputs": [],
   "source": [
    "# pour tester le correlation filter, on ajoute une variable qui est un multiple de V1\n",
    "x = M.train_X\n",
    "x['test2'] = 2 * x['V1']"
   ]
  },
  {
   "cell_type": "code",
   "execution_count": null,
   "metadata": {},
   "outputs": [],
   "source": [
    "corr_filter = HighCorrelation_filter(threshold = 0.95, equisample = True)"
   ]
  },
  {
   "cell_type": "code",
   "execution_count": null,
   "metadata": {},
   "outputs": [],
   "source": [
    "dir(corr_filter)"
   ]
  },
  {
   "cell_type": "code",
   "execution_count": null,
   "metadata": {},
   "outputs": [],
   "source": [
    "help(corr_filter.fit)"
   ]
  },
  {
   "cell_type": "code",
   "execution_count": null,
   "metadata": {},
   "outputs": [],
   "source": [
    "corr_filter = corr_filter.fit(X = x)\n",
    "corr_filter._removed"
   ]
  },
  {
   "cell_type": "markdown",
   "metadata": {},
   "source": [
    "#### Variance"
   ]
  },
  {
   "cell_type": "code",
   "execution_count": null,
   "metadata": {},
   "outputs": [],
   "source": [
    "# pour tester le variance filter, on ajoute une variable de variance 0\n",
    "x = M.train_X\n",
    "x['test'] = 1."
   ]
  },
  {
   "cell_type": "markdown",
   "metadata": {},
   "source": [
    "##### NearZeroVar_filter"
   ]
  },
  {
   "cell_type": "code",
   "execution_count": null,
   "metadata": {},
   "outputs": [],
   "source": [
    "var_filter = NearZeroVar_filter(frequency_ratio = 95/5, unique_cut = 0.05, equisample = True)"
   ]
  },
  {
   "cell_type": "code",
   "execution_count": null,
   "metadata": {},
   "outputs": [],
   "source": [
    "dir(var_filter)"
   ]
  },
  {
   "cell_type": "code",
   "execution_count": null,
   "metadata": {},
   "outputs": [],
   "source": [
    "help(var_filter.fit)"
   ]
  },
  {
   "cell_type": "code",
   "execution_count": null,
   "metadata": {},
   "outputs": [],
   "source": [
    "var_filter = var_filter.fit(X = x)\n",
    "var_filter._removed"
   ]
  },
  {
   "cell_type": "markdown",
   "metadata": {},
   "source": [
    "##### LowVar_Filter"
   ]
  },
  {
   "cell_type": "code",
   "execution_count": null,
   "metadata": {},
   "outputs": [],
   "source": [
    "low_var_filter = LowVar_Filter(threshold = 0.01, equisample = True)"
   ]
  },
  {
   "cell_type": "code",
   "execution_count": null,
   "metadata": {},
   "outputs": [],
   "source": [
    "dir(low_var_filter)"
   ]
  },
  {
   "cell_type": "code",
   "execution_count": null,
   "metadata": {},
   "outputs": [],
   "source": [
    "help(low_var_filter.fit)"
   ]
  },
  {
   "cell_type": "code",
   "execution_count": null,
   "metadata": {},
   "outputs": [],
   "source": [
    "low_var_filter = low_var_filter.fit(X = x)\n",
    "low_var_filter._removed"
   ]
  }
 ],
 "metadata": {
  "kernelspec": {
   "display_name": "modelisation-Q488yCbE-py3.8",
   "language": "python",
   "name": "python3"
  },
  "language_info": {
   "codemirror_mode": {
    "name": "ipython",
    "version": 3
   },
   "file_extension": ".py",
   "mimetype": "text/x-python",
   "name": "python",
   "nbconvert_exporter": "python",
   "pygments_lexer": "ipython3",
   "version": "3.11.7"
  }
 },
 "nbformat": 4,
 "nbformat_minor": 2
}
