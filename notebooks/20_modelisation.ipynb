{
 "cells": [
  {
   "cell_type": "markdown",
   "metadata": {},
   "source": [
    "## Imports"
   ]
  },
  {
   "cell_type": "code",
   "execution_count": 1,
   "metadata": {},
   "outputs": [],
   "source": [
    "import sys\n",
    "import pandas as pd\n",
    "import numpy as np\n",
    "import pickle\n",
    "\n",
    "from functools import partial\n",
    "\n",
    "import sklearn.pipeline as skpip\n",
    "from sklearn.compose import ColumnTransformer\n",
    "from category_encoders import WOEEncoder\n",
    "from sklearn.impute import SimpleImputer\n",
    "from sklearn.preprocessing import StandardScaler\n",
    "\n",
    "# Import my libs\n",
    "sys.path.append('../')\n",
    "\n",
    "from src.features.balance import BalanceMixin\n",
    "from src.features.correlation import HighCorrelation_filter\n",
    "from src.features.variance import NearZeroVar_filter, LowVar_Filter\n",
    "from src.features.passthrough import Passthrough"
   ]
  },
  {
   "cell_type": "markdown",
   "metadata": {},
   "source": [
    "modelisationTuple"
   ]
  },
  {
   "cell_type": "code",
   "execution_count": 2,
   "metadata": {},
   "outputs": [],
   "source": [
    "with open('../data/processed/modelling_tuple', 'rb') as f:\n",
    "    M = pickle.load(f)"
   ]
  },
  {
   "cell_type": "markdown",
   "metadata": {},
   "source": [
    "## Preprocessing Steps"
   ]
  },
  {
   "cell_type": "markdown",
   "metadata": {},
   "source": [
    "#### Function I use in preprocessing"
   ]
  },
  {
   "cell_type": "code",
   "execution_count": 3,
   "metadata": {},
   "outputs": [],
   "source": [
    "def _intersect(df: pd.DataFrame, target: list):\n",
    "    \"\"\"\n",
    "    Intersection between a list and a set of columns in a dataframe.\n",
    "\n",
    "    Args:\n",
    "        df (pd.DataFrame): The dataframe with which we want to make the intersection.\n",
    "        target (list): The array with which we want to make the intersection.\n",
    "    \"\"\"\n",
    "\n",
    "    return [c for c in df.columns if c in target]"
   ]
  },
  {
   "cell_type": "markdown",
   "metadata": {},
   "source": [
    "####  Split the features to be processed by their types"
   ]
  },
  {
   "cell_type": "code",
   "execution_count": 4,
   "metadata": {},
   "outputs": [],
   "source": [
    "#M.train_X.dtypes"
   ]
  },
  {
   "cell_type": "code",
   "execution_count": 5,
   "metadata": {},
   "outputs": [],
   "source": [
    "# variables that do not require preprocessing\n",
    "passthrough_cols = ['']\n",
    "\n",
    "# non-ordinal / categorical variables\n",
    "categorical_cols = [''] \n",
    "\n",
    "# quantitative variables\n",
    "quantitative_cols = set(M.train_X.select_dtypes(include=['float','int']).columns.tolist()) - set(passthrough_cols) - set(categorical_cols)\n",
    "quantitative_cols = list(quantitative_cols)"
   ]
  },
  {
   "cell_type": "markdown",
   "metadata": {},
   "source": [
    "####  Fast checkpoint"
   ]
  },
  {
   "cell_type": "code",
   "execution_count": 6,
   "metadata": {},
   "outputs": [
    {
     "data": {
      "text/html": [
       "<div>\n",
       "<style scoped>\n",
       "    .dataframe tbody tr th:only-of-type {\n",
       "        vertical-align: middle;\n",
       "    }\n",
       "\n",
       "    .dataframe tbody tr th {\n",
       "        vertical-align: top;\n",
       "    }\n",
       "\n",
       "    .dataframe thead th {\n",
       "        text-align: right;\n",
       "    }\n",
       "</style>\n",
       "<table border=\"1\" class=\"dataframe\">\n",
       "  <thead>\n",
       "    <tr style=\"text-align: right;\">\n",
       "      <th></th>\n",
       "      <th>nb</th>\n",
       "    </tr>\n",
       "  </thead>\n",
       "  <tbody>\n",
       "  </tbody>\n",
       "</table>\n",
       "</div>"
      ],
      "text/plain": [
       "Empty DataFrame\n",
       "Columns: [nb]\n",
       "Index: []"
      ]
     },
     "execution_count": 6,
     "metadata": {},
     "output_type": "execute_result"
    }
   ],
   "source": [
    "# Check if dataframe contains NaN value\n",
    "test = M.train_X.isna().sum().to_frame('nb')\n",
    "test[test['nb'] > 0]"
   ]
  },
  {
   "cell_type": "code",
   "execution_count": 7,
   "metadata": {},
   "outputs": [
    {
     "data": {
      "text/html": [
       "<div>\n",
       "<style scoped>\n",
       "    .dataframe tbody tr th:only-of-type {\n",
       "        vertical-align: middle;\n",
       "    }\n",
       "\n",
       "    .dataframe tbody tr th {\n",
       "        vertical-align: top;\n",
       "    }\n",
       "\n",
       "    .dataframe thead th {\n",
       "        text-align: right;\n",
       "    }\n",
       "</style>\n",
       "<table border=\"1\" class=\"dataframe\">\n",
       "  <thead>\n",
       "    <tr style=\"text-align: right;\">\n",
       "      <th></th>\n",
       "      <th>nb</th>\n",
       "    </tr>\n",
       "  </thead>\n",
       "  <tbody>\n",
       "  </tbody>\n",
       "</table>\n",
       "</div>"
      ],
      "text/plain": [
       "Empty DataFrame\n",
       "Columns: [nb]\n",
       "Index: []"
      ]
     },
     "execution_count": 7,
     "metadata": {},
     "output_type": "execute_result"
    }
   ],
   "source": [
    " # Check if dataframe contains infinity\n",
    "test = np.isinf(M.train_X).sum().to_frame('nb')\n",
    "test[test['nb'] > 0]"
   ]
  },
  {
   "cell_type": "code",
   "execution_count": 8,
   "metadata": {},
   "outputs": [
    {
     "data": {
      "text/html": [
       "<div>\n",
       "<style scoped>\n",
       "    .dataframe tbody tr th:only-of-type {\n",
       "        vertical-align: middle;\n",
       "    }\n",
       "\n",
       "    .dataframe tbody tr th {\n",
       "        vertical-align: top;\n",
       "    }\n",
       "\n",
       "    .dataframe thead th {\n",
       "        text-align: right;\n",
       "    }\n",
       "</style>\n",
       "<table border=\"1\" class=\"dataframe\">\n",
       "  <thead>\n",
       "    <tr style=\"text-align: right;\">\n",
       "      <th></th>\n",
       "      <th>normalized</th>\n",
       "      <th>number</th>\n",
       "    </tr>\n",
       "  </thead>\n",
       "  <tbody>\n",
       "    <tr>\n",
       "      <th>0.0</th>\n",
       "      <td>99.82</td>\n",
       "      <td>217485</td>\n",
       "    </tr>\n",
       "    <tr>\n",
       "      <th>1.0</th>\n",
       "      <td>0.18</td>\n",
       "      <td>392</td>\n",
       "    </tr>\n",
       "  </tbody>\n",
       "</table>\n",
       "</div>"
      ],
      "text/plain": [
       "     normalized  number\n",
       "0.0       99.82  217485\n",
       "1.0        0.18     392"
      ]
     },
     "execution_count": 8,
     "metadata": {},
     "output_type": "execute_result"
    }
   ],
   "source": [
    " # prevalence\n",
    "y = M.train_y\n",
    "out = pd.concat([\n",
    "    np.round(y.value_counts(normalize=True, ascending=False).rename('normalized'), 4) * 100,\n",
    "    y.value_counts(normalize=False, ascending=False).rename('number'),\n",
    "], axis=1)\n",
    "out"
   ]
  },
  {
   "cell_type": "markdown",
   "metadata": {},
   "source": [
    "#### Preprocessor"
   ]
  },
  {
   "cell_type": "code",
   "execution_count": 9,
   "metadata": {},
   "outputs": [],
   "source": [
    "def build_data_preprocessor(passthrough_cols: list, categorical_cols: list, quantitative_cols: list, scale=False):\n",
    "    \"\"\"\n",
    "    Creates a data preprocessing pipeline\n",
    "\n",
    "    Args:\n",
    "        passthrough_cols (list):  list of variables that do not require preprocessing.\n",
    "        categorical_cols (list):  list of non-ordinal / categorical variables .\n",
    "        quantitative_cols (list): list of quantitative variables.\n",
    "        scale (boolean, optional): Should we standardize the variables? Defaults to False.\n",
    "    \"\"\"\n",
    "\n",
    "    # This step will make each preprocessing step robust if it does not receive all the assumed variables\n",
    "    passthrough_cols_selector = partial(_intersect, target=passthrough_cols)\n",
    "    categorical_cols_selector = partial(_intersect, target=categorical_cols)\n",
    "    quantitative_cols_selector = partial(_intersect, target=quantitative_cols)\n",
    "\n",
    "    # Make the preprocessor pipeline\n",
    "    lowvar_transformer = skpip.Pipeline(steps=[\n",
    "        ('NZV', NearZeroVar_filter(equisample=True))\n",
    "    ])\n",
    "\n",
    "    # Categorical-non-ordinal pipeline\n",
    "    categorical_transformer = skpip.Pipeline(steps=[\n",
    "        ('encoder', WOEEncoder())\n",
    "    ])\n",
    "\n",
    "    # Passthrough pipeline\n",
    "    passthrough_transformer = skpip.Pipeline(steps=[\n",
    "        ('passthrough', Passthrough())\n",
    "    ])\n",
    "\n",
    "    # Quantitative pipeline\n",
    "    quantitative_transformer = skpip.Pipeline(steps=[\n",
    "        ('low-var', LowVar_Filter(equisample=True)),\n",
    "        ('high-correlation', HighCorrelation_filter(equisample=True)),\n",
    "        ('imputer', SimpleImputer(strategy='median')),\n",
    "    ])\n",
    "\n",
    "    if scale:\n",
    "        quantitative_transformer.steps.append(('scaler', StandardScaler()))\n",
    "\n",
    "\n",
    "    # Map the columns to their respective transformers\n",
    "    # ColumnTransformer allows to apply data transformations to different features of a same df. \n",
    "    # Columns not specified in the \"Transformers\" list are removed from the default dataset.\n",
    "    columns_transformers = ColumnTransformer(\n",
    "        transformers=[\n",
    "            ('quantitative', quantitative_transformer, quantitative_cols_selector),\n",
    "            ('passthrough', passthrough_transformer, passthrough_cols_selector),\n",
    "            ('categorical', categorical_transformer, categorical_cols_selector),\n",
    "        ],\n",
    "        verbose_feature_names_out=False,\n",
    "    )\n",
    "\n",
    "    # Define the pipeline\n",
    "    preprocessor = skpip.Pipeline(steps=[\n",
    "        ('lowvar_transformer', lowvar_transformer),\n",
    "        ('columns_transformers', columns_transformers),\n",
    "    ]\n",
    "    )\n",
    "\n",
    "    return preprocessor"
   ]
  },
  {
   "cell_type": "markdown",
   "metadata": {},
   "source": [
    "## SmokeTest"
   ]
  },
  {
   "cell_type": "code",
   "execution_count": 10,
   "metadata": {},
   "outputs": [
    {
     "data": {
      "text/html": [
       "<style>#sk-container-id-1 {color: black;}#sk-container-id-1 pre{padding: 0;}#sk-container-id-1 div.sk-toggleable {background-color: white;}#sk-container-id-1 label.sk-toggleable__label {cursor: pointer;display: block;width: 100%;margin-bottom: 0;padding: 0.3em;box-sizing: border-box;text-align: center;}#sk-container-id-1 label.sk-toggleable__label-arrow:before {content: \"▸\";float: left;margin-right: 0.25em;color: #696969;}#sk-container-id-1 label.sk-toggleable__label-arrow:hover:before {color: black;}#sk-container-id-1 div.sk-estimator:hover label.sk-toggleable__label-arrow:before {color: black;}#sk-container-id-1 div.sk-toggleable__content {max-height: 0;max-width: 0;overflow: hidden;text-align: left;background-color: #f0f8ff;}#sk-container-id-1 div.sk-toggleable__content pre {margin: 0.2em;color: black;border-radius: 0.25em;background-color: #f0f8ff;}#sk-container-id-1 input.sk-toggleable__control:checked~div.sk-toggleable__content {max-height: 200px;max-width: 100%;overflow: auto;}#sk-container-id-1 input.sk-toggleable__control:checked~label.sk-toggleable__label-arrow:before {content: \"▾\";}#sk-container-id-1 div.sk-estimator input.sk-toggleable__control:checked~label.sk-toggleable__label {background-color: #d4ebff;}#sk-container-id-1 div.sk-label input.sk-toggleable__control:checked~label.sk-toggleable__label {background-color: #d4ebff;}#sk-container-id-1 input.sk-hidden--visually {border: 0;clip: rect(1px 1px 1px 1px);clip: rect(1px, 1px, 1px, 1px);height: 1px;margin: -1px;overflow: hidden;padding: 0;position: absolute;width: 1px;}#sk-container-id-1 div.sk-estimator {font-family: monospace;background-color: #f0f8ff;border: 1px dotted black;border-radius: 0.25em;box-sizing: border-box;margin-bottom: 0.5em;}#sk-container-id-1 div.sk-estimator:hover {background-color: #d4ebff;}#sk-container-id-1 div.sk-parallel-item::after {content: \"\";width: 100%;border-bottom: 1px solid gray;flex-grow: 1;}#sk-container-id-1 div.sk-label:hover label.sk-toggleable__label {background-color: #d4ebff;}#sk-container-id-1 div.sk-serial::before {content: \"\";position: absolute;border-left: 1px solid gray;box-sizing: border-box;top: 0;bottom: 0;left: 50%;z-index: 0;}#sk-container-id-1 div.sk-serial {display: flex;flex-direction: column;align-items: center;background-color: white;padding-right: 0.2em;padding-left: 0.2em;position: relative;}#sk-container-id-1 div.sk-item {position: relative;z-index: 1;}#sk-container-id-1 div.sk-parallel {display: flex;align-items: stretch;justify-content: center;background-color: white;position: relative;}#sk-container-id-1 div.sk-item::before, #sk-container-id-1 div.sk-parallel-item::before {content: \"\";position: absolute;border-left: 1px solid gray;box-sizing: border-box;top: 0;bottom: 0;left: 50%;z-index: -1;}#sk-container-id-1 div.sk-parallel-item {display: flex;flex-direction: column;z-index: 1;position: relative;background-color: white;}#sk-container-id-1 div.sk-parallel-item:first-child::after {align-self: flex-end;width: 50%;}#sk-container-id-1 div.sk-parallel-item:last-child::after {align-self: flex-start;width: 50%;}#sk-container-id-1 div.sk-parallel-item:only-child::after {width: 0;}#sk-container-id-1 div.sk-dashed-wrapped {border: 1px dashed gray;margin: 0 0.4em 0.5em 0.4em;box-sizing: border-box;padding-bottom: 0.4em;background-color: white;}#sk-container-id-1 div.sk-label label {font-family: monospace;font-weight: bold;display: inline-block;line-height: 1.2em;}#sk-container-id-1 div.sk-label-container {text-align: center;}#sk-container-id-1 div.sk-container {/* jupyter's `normalize.less` sets `[hidden] { display: none; }` but bootstrap.min.css set `[hidden] { display: none !important; }` so we also need the `!important` here to be able to override the default hidden behavior on the sphinx rendered scikit-learn.org. See: https://github.com/scikit-learn/scikit-learn/issues/21755 */display: inline-block !important;position: relative;}#sk-container-id-1 div.sk-text-repr-fallback {display: none;}</style><div id=\"sk-container-id-1\" class=\"sk-top-container\"><div class=\"sk-text-repr-fallback\"><pre>Pipeline(steps=[(&#x27;lowvar_transformer&#x27;,\n",
       "                 Pipeline(steps=[(&#x27;NZV&#x27;, NearZeroVar_filter())])),\n",
       "                (&#x27;columns_transformers&#x27;,\n",
       "                 ColumnTransformer(transformers=[(&#x27;quantitative&#x27;,\n",
       "                                                  Pipeline(steps=[(&#x27;low-var&#x27;,\n",
       "                                                                   LowVar_Filter()),\n",
       "                                                                  (&#x27;high-correlation&#x27;,\n",
       "                                                                   HighCorrelation_filter()),\n",
       "                                                                  (&#x27;imputer&#x27;,\n",
       "                                                                   SimpleImputer(strategy=&#x27;median&#x27;))]),\n",
       "                                                  functools.partial(&lt;function _intersect at 0x7feeeb2093a0&gt;,...11&#x27;, &#x27;V28&#x27;, &#x27;V25&#x27;, &#x27;V14&#x27;, &#x27;Time&#x27;, &#x27;V9&#x27;, &#x27;V22&#x27;, &#x27;V18&#x27;, &#x27;V21&#x27;])),\n",
       "                                                 (&#x27;passthrough&#x27;,\n",
       "                                                  Pipeline(steps=[(&#x27;passthrough&#x27;,\n",
       "                                                                   Passthrough())]),\n",
       "                                                  functools.partial(&lt;function _intersect at 0x7feeeb2093a0&gt;, target=[&#x27;&#x27;])),\n",
       "                                                 (&#x27;categorical&#x27;,\n",
       "                                                  Pipeline(steps=[(&#x27;encoder&#x27;,\n",
       "                                                                   WOEEncoder())]),\n",
       "                                                  functools.partial(&lt;function _intersect at 0x7feeeb2093a0&gt;, target=[&#x27;&#x27;]))],\n",
       "                                   verbose_feature_names_out=False))])</pre><b>In a Jupyter environment, please rerun this cell to show the HTML representation or trust the notebook. <br />On GitHub, the HTML representation is unable to render, please try loading this page with nbviewer.org.</b></div><div class=\"sk-container\" hidden><div class=\"sk-item sk-dashed-wrapped\"><div class=\"sk-label-container\"><div class=\"sk-label sk-toggleable\"><input class=\"sk-toggleable__control sk-hidden--visually\" id=\"sk-estimator-id-1\" type=\"checkbox\" ><label for=\"sk-estimator-id-1\" class=\"sk-toggleable__label sk-toggleable__label-arrow\">Pipeline</label><div class=\"sk-toggleable__content\"><pre>Pipeline(steps=[(&#x27;lowvar_transformer&#x27;,\n",
       "                 Pipeline(steps=[(&#x27;NZV&#x27;, NearZeroVar_filter())])),\n",
       "                (&#x27;columns_transformers&#x27;,\n",
       "                 ColumnTransformer(transformers=[(&#x27;quantitative&#x27;,\n",
       "                                                  Pipeline(steps=[(&#x27;low-var&#x27;,\n",
       "                                                                   LowVar_Filter()),\n",
       "                                                                  (&#x27;high-correlation&#x27;,\n",
       "                                                                   HighCorrelation_filter()),\n",
       "                                                                  (&#x27;imputer&#x27;,\n",
       "                                                                   SimpleImputer(strategy=&#x27;median&#x27;))]),\n",
       "                                                  functools.partial(&lt;function _intersect at 0x7feeeb2093a0&gt;,...11&#x27;, &#x27;V28&#x27;, &#x27;V25&#x27;, &#x27;V14&#x27;, &#x27;Time&#x27;, &#x27;V9&#x27;, &#x27;V22&#x27;, &#x27;V18&#x27;, &#x27;V21&#x27;])),\n",
       "                                                 (&#x27;passthrough&#x27;,\n",
       "                                                  Pipeline(steps=[(&#x27;passthrough&#x27;,\n",
       "                                                                   Passthrough())]),\n",
       "                                                  functools.partial(&lt;function _intersect at 0x7feeeb2093a0&gt;, target=[&#x27;&#x27;])),\n",
       "                                                 (&#x27;categorical&#x27;,\n",
       "                                                  Pipeline(steps=[(&#x27;encoder&#x27;,\n",
       "                                                                   WOEEncoder())]),\n",
       "                                                  functools.partial(&lt;function _intersect at 0x7feeeb2093a0&gt;, target=[&#x27;&#x27;]))],\n",
       "                                   verbose_feature_names_out=False))])</pre></div></div></div><div class=\"sk-serial\"><div class=\"sk-item\"><div class=\"sk-label-container\"><div class=\"sk-label sk-toggleable\"><input class=\"sk-toggleable__control sk-hidden--visually\" id=\"sk-estimator-id-2\" type=\"checkbox\" ><label for=\"sk-estimator-id-2\" class=\"sk-toggleable__label sk-toggleable__label-arrow\">lowvar_transformer: Pipeline</label><div class=\"sk-toggleable__content\"><pre>Pipeline(steps=[(&#x27;NZV&#x27;, NearZeroVar_filter())])</pre></div></div></div><div class=\"sk-serial\"><div class=\"sk-item\"><div class=\"sk-estimator sk-toggleable\"><input class=\"sk-toggleable__control sk-hidden--visually\" id=\"sk-estimator-id-3\" type=\"checkbox\" ><label for=\"sk-estimator-id-3\" class=\"sk-toggleable__label sk-toggleable__label-arrow\">NearZeroVar_filter</label><div class=\"sk-toggleable__content\"><pre>NearZeroVar_filter()</pre></div></div></div></div></div><div class=\"sk-item sk-dashed-wrapped\"><div class=\"sk-label-container\"><div class=\"sk-label sk-toggleable\"><input class=\"sk-toggleable__control sk-hidden--visually\" id=\"sk-estimator-id-4\" type=\"checkbox\" ><label for=\"sk-estimator-id-4\" class=\"sk-toggleable__label sk-toggleable__label-arrow\">columns_transformers: ColumnTransformer</label><div class=\"sk-toggleable__content\"><pre>ColumnTransformer(transformers=[(&#x27;quantitative&#x27;,\n",
       "                                 Pipeline(steps=[(&#x27;low-var&#x27;, LowVar_Filter()),\n",
       "                                                 (&#x27;high-correlation&#x27;,\n",
       "                                                  HighCorrelation_filter()),\n",
       "                                                 (&#x27;imputer&#x27;,\n",
       "                                                  SimpleImputer(strategy=&#x27;median&#x27;))]),\n",
       "                                 functools.partial(&lt;function _intersect at 0x7feeeb2093a0&gt;, target=[&#x27;V24&#x27;, &#x27;V3&#x27;, &#x27;V4&#x27;, &#x27;V16&#x27;, &#x27;V13&#x27;, &#x27;V23&#x27;, &#x27;V2&#x27;, &#x27;V19&#x27;, &#x27;V6&#x27;, &#x27;V20&#x27;, &#x27;V10&#x27;, &#x27;V7&#x27;, &#x27;V17&#x27;, &#x27;V15&#x27;, &#x27;V1&#x27;, &#x27;V8&#x27;, &#x27;V12&#x27;, &#x27;V5&#x27;, &#x27;V..., &#x27;V11&#x27;, &#x27;V28&#x27;, &#x27;V25&#x27;, &#x27;V14&#x27;, &#x27;Time&#x27;, &#x27;V9&#x27;, &#x27;V22&#x27;, &#x27;V18&#x27;, &#x27;V21&#x27;])),\n",
       "                                (&#x27;passthrough&#x27;,\n",
       "                                 Pipeline(steps=[(&#x27;passthrough&#x27;,\n",
       "                                                  Passthrough())]),\n",
       "                                 functools.partial(&lt;function _intersect at 0x7feeeb2093a0&gt;, target=[&#x27;&#x27;])),\n",
       "                                (&#x27;categorical&#x27;,\n",
       "                                 Pipeline(steps=[(&#x27;encoder&#x27;, WOEEncoder())]),\n",
       "                                 functools.partial(&lt;function _intersect at 0x7feeeb2093a0&gt;, target=[&#x27;&#x27;]))],\n",
       "                  verbose_feature_names_out=False)</pre></div></div></div><div class=\"sk-parallel\"><div class=\"sk-parallel-item\"><div class=\"sk-item\"><div class=\"sk-label-container\"><div class=\"sk-label sk-toggleable\"><input class=\"sk-toggleable__control sk-hidden--visually\" id=\"sk-estimator-id-5\" type=\"checkbox\" ><label for=\"sk-estimator-id-5\" class=\"sk-toggleable__label sk-toggleable__label-arrow\">quantitative</label><div class=\"sk-toggleable__content\"><pre>functools.partial(&lt;function _intersect at 0x7feeeb2093a0&gt;, target=[&#x27;V24&#x27;, &#x27;V3&#x27;, &#x27;V4&#x27;, &#x27;V16&#x27;, &#x27;V13&#x27;, &#x27;V23&#x27;, &#x27;V2&#x27;, &#x27;V19&#x27;, &#x27;V6&#x27;, &#x27;V20&#x27;, &#x27;V10&#x27;, &#x27;V7&#x27;, &#x27;V17&#x27;, &#x27;V15&#x27;, &#x27;V1&#x27;, &#x27;V8&#x27;, &#x27;V12&#x27;, &#x27;V5&#x27;, &#x27;V26&#x27;, &#x27;V27&#x27;, &#x27;Amount&#x27;, &#x27;V11&#x27;, &#x27;V28&#x27;, &#x27;V25&#x27;, &#x27;V14&#x27;, &#x27;Time&#x27;, &#x27;V9&#x27;, &#x27;V22&#x27;, &#x27;V18&#x27;, &#x27;V21&#x27;])</pre></div></div></div><div class=\"sk-serial\"><div class=\"sk-item\"><div class=\"sk-serial\"><div class=\"sk-item\"><div class=\"sk-estimator sk-toggleable\"><input class=\"sk-toggleable__control sk-hidden--visually\" id=\"sk-estimator-id-6\" type=\"checkbox\" ><label for=\"sk-estimator-id-6\" class=\"sk-toggleable__label sk-toggleable__label-arrow\">LowVar_Filter</label><div class=\"sk-toggleable__content\"><pre>LowVar_Filter()</pre></div></div></div><div class=\"sk-item\"><div class=\"sk-estimator sk-toggleable\"><input class=\"sk-toggleable__control sk-hidden--visually\" id=\"sk-estimator-id-7\" type=\"checkbox\" ><label for=\"sk-estimator-id-7\" class=\"sk-toggleable__label sk-toggleable__label-arrow\">HighCorrelation_filter</label><div class=\"sk-toggleable__content\"><pre>HighCorrelation_filter()</pre></div></div></div><div class=\"sk-item\"><div class=\"sk-estimator sk-toggleable\"><input class=\"sk-toggleable__control sk-hidden--visually\" id=\"sk-estimator-id-8\" type=\"checkbox\" ><label for=\"sk-estimator-id-8\" class=\"sk-toggleable__label sk-toggleable__label-arrow\">SimpleImputer</label><div class=\"sk-toggleable__content\"><pre>SimpleImputer(strategy=&#x27;median&#x27;)</pre></div></div></div></div></div></div></div></div><div class=\"sk-parallel-item\"><div class=\"sk-item\"><div class=\"sk-label-container\"><div class=\"sk-label sk-toggleable\"><input class=\"sk-toggleable__control sk-hidden--visually\" id=\"sk-estimator-id-9\" type=\"checkbox\" ><label for=\"sk-estimator-id-9\" class=\"sk-toggleable__label sk-toggleable__label-arrow\">passthrough</label><div class=\"sk-toggleable__content\"><pre>functools.partial(&lt;function _intersect at 0x7feeeb2093a0&gt;, target=[&#x27;&#x27;])</pre></div></div></div><div class=\"sk-serial\"><div class=\"sk-item\"><div class=\"sk-serial\"><div class=\"sk-item\"><div class=\"sk-estimator sk-toggleable\"><input class=\"sk-toggleable__control sk-hidden--visually\" id=\"sk-estimator-id-10\" type=\"checkbox\" ><label for=\"sk-estimator-id-10\" class=\"sk-toggleable__label sk-toggleable__label-arrow\">Passthrough</label><div class=\"sk-toggleable__content\"><pre>Passthrough()</pre></div></div></div></div></div></div></div></div><div class=\"sk-parallel-item\"><div class=\"sk-item\"><div class=\"sk-label-container\"><div class=\"sk-label sk-toggleable\"><input class=\"sk-toggleable__control sk-hidden--visually\" id=\"sk-estimator-id-11\" type=\"checkbox\" ><label for=\"sk-estimator-id-11\" class=\"sk-toggleable__label sk-toggleable__label-arrow\">categorical</label><div class=\"sk-toggleable__content\"><pre>functools.partial(&lt;function _intersect at 0x7feeeb2093a0&gt;, target=[&#x27;&#x27;])</pre></div></div></div><div class=\"sk-serial\"><div class=\"sk-item\"><div class=\"sk-serial\"><div class=\"sk-item\"><div class=\"sk-estimator sk-toggleable\"><input class=\"sk-toggleable__control sk-hidden--visually\" id=\"sk-estimator-id-12\" type=\"checkbox\" ><label for=\"sk-estimator-id-12\" class=\"sk-toggleable__label sk-toggleable__label-arrow\">WOEEncoder</label><div class=\"sk-toggleable__content\"><pre>WOEEncoder()</pre></div></div></div></div></div></div></div></div></div></div></div></div></div></div>"
      ],
      "text/plain": [
       "Pipeline(steps=[('lowvar_transformer',\n",
       "                 Pipeline(steps=[('NZV', NearZeroVar_filter())])),\n",
       "                ('columns_transformers',\n",
       "                 ColumnTransformer(transformers=[('quantitative',\n",
       "                                                  Pipeline(steps=[('low-var',\n",
       "                                                                   LowVar_Filter()),\n",
       "                                                                  ('high-correlation',\n",
       "                                                                   HighCorrelation_filter()),\n",
       "                                                                  ('imputer',\n",
       "                                                                   SimpleImputer(strategy='median'))]),\n",
       "                                                  functools.partial(<function _intersect at 0x7feeeb2093a0>,...11', 'V28', 'V25', 'V14', 'Time', 'V9', 'V22', 'V18', 'V21'])),\n",
       "                                                 ('passthrough',\n",
       "                                                  Pipeline(steps=[('passthrough',\n",
       "                                                                   Passthrough())]),\n",
       "                                                  functools.partial(<function _intersect at 0x7feeeb2093a0>, target=[''])),\n",
       "                                                 ('categorical',\n",
       "                                                  Pipeline(steps=[('encoder',\n",
       "                                                                   WOEEncoder())]),\n",
       "                                                  functools.partial(<function _intersect at 0x7feeeb2093a0>, target=['']))],\n",
       "                                   verbose_feature_names_out=False))])"
      ]
     },
     "execution_count": 10,
     "metadata": {},
     "output_type": "execute_result"
    }
   ],
   "source": [
    "preprocessor = build_data_preprocessor(passthrough_cols= passthrough_cols, categorical_cols= categorical_cols, quantitative_cols= quantitative_cols, scale=False)\n",
    "preprocessor.fit(M.train_X, M.train_y)"
   ]
  },
  {
   "cell_type": "code",
   "execution_count": 11,
   "metadata": {},
   "outputs": [
    {
     "name": "stdout",
     "output_type": "stream",
     "text": [
      "<class 'sklearn.pipeline.Pipeline'>\n",
      "<class 'sklearn.compose._column_transformer.ColumnTransformer'>\n"
     ]
    }
   ],
   "source": [
    "print(type(preprocessor))\n",
    "print(type(preprocessor.named_steps['columns_transformers']))"
   ]
  },
  {
   "cell_type": "code",
   "execution_count": 12,
   "metadata": {},
   "outputs": [
    {
     "data": {
      "text/plain": [
       "array(['Time', 'V1', 'V2', 'V3', 'V4', 'V5', 'V6', 'V7', 'V8', 'V9',\n",
       "       'V10', 'V11', 'V12', 'V13', 'V14', 'V15', 'V16', 'V18', 'V19',\n",
       "       'V20', 'V21', 'V22', 'V23', 'V24', 'V25', 'V26', 'V27', 'V28',\n",
       "       'Amount'], dtype=object)"
      ]
     },
     "execution_count": 12,
     "metadata": {},
     "output_type": "execute_result"
    }
   ],
   "source": [
    "# Extract the columns names from the FINAL layer of the transformer\n",
    "preprocessor.get_feature_names_out()"
   ]
  },
  {
   "cell_type": "code",
   "execution_count": 13,
   "metadata": {},
   "outputs": [],
   "source": [
    "X_transformed = preprocessor.transform(M.train_X)\n",
    "X_transformed = pd.DataFrame(X_transformed, columns=preprocessor.get_feature_names_out())"
   ]
  }
 ],
 "metadata": {
  "kernelspec": {
   "display_name": "modelisation-Q488yCbE-py3.9",
   "language": "python",
   "name": "python3"
  },
  "language_info": {
   "codemirror_mode": {
    "name": "ipython",
    "version": 3
   },
   "file_extension": ".py",
   "mimetype": "text/x-python",
   "name": "python",
   "nbconvert_exporter": "python",
   "pygments_lexer": "ipython3",
   "version": "3.9.5"
  },
  "orig_nbformat": 4
 },
 "nbformat": 4,
 "nbformat_minor": 2
}
